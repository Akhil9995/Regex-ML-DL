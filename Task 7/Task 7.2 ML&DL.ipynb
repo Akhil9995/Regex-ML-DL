{
 "cells": [
  {
   "cell_type": "markdown",
   "id": "acf6c4c8",
   "metadata": {},
   "source": [
    "# Task 2\n",
    "# Akhilkumar K S\n",
    "# ID: SIRSS2138"
   ]
  },
  {
   "cell_type": "markdown",
   "id": "7d36f11c",
   "metadata": {},
   "source": [
    "## Q2.House price prediction "
   ]
  },
  {
   "cell_type": "markdown",
   "id": "7dc68055",
   "metadata": {},
   "source": [
    "#### Importing Libraries"
   ]
  },
  {
   "cell_type": "code",
   "execution_count": null,
   "id": "46762b5c",
   "metadata": {},
   "outputs": [],
   "source": [
    "import numpy as np\n",
    "import pandas as pd\n",
    "import matplotlib.pyplot as plt\n",
    "import seaborn as sns\n",
    "pd.options.display.min_rows=81"
   ]
  },
  {
   "cell_type": "markdown",
   "id": "60fc3556",
   "metadata": {},
   "source": [
    "#### Importing Data"
   ]
  },
  {
   "cell_type": "code",
   "execution_count": null,
   "id": "8209e162",
   "metadata": {},
   "outputs": [],
   "source": [
    "train=pd.read_csv('train.csv')\n",
    "test=pd.read_csv('test.csv')"
   ]
  },
  {
   "cell_type": "markdown",
   "id": "8ced7e21",
   "metadata": {},
   "source": [
    "### Exploratory Data Analysis"
   ]
  },
  {
   "cell_type": "markdown",
   "id": "7a89e461",
   "metadata": {},
   "source": [
    "#### Data analysis"
   ]
  },
  {
   "cell_type": "code",
   "execution_count": null,
   "id": "5cb1d984",
   "metadata": {},
   "outputs": [],
   "source": [
    "train.head()"
   ]
  },
  {
   "cell_type": "code",
   "execution_count": null,
   "id": "d1175b94",
   "metadata": {},
   "outputs": [],
   "source": [
    "test.head()"
   ]
  },
  {
   "cell_type": "code",
   "execution_count": null,
   "id": "fbc4ef0a",
   "metadata": {},
   "outputs": [],
   "source": [
    "train.info()"
   ]
  },
  {
   "cell_type": "code",
   "execution_count": null,
   "id": "7c79d17e",
   "metadata": {},
   "outputs": [],
   "source": [
    "train.describe()"
   ]
  },
  {
   "cell_type": "code",
   "execution_count": null,
   "id": "df4c4b77",
   "metadata": {},
   "outputs": [],
   "source": [
    "train.duplicated().sum()"
   ]
  },
  {
   "cell_type": "code",
   "execution_count": null,
   "id": "fa8c5d6f",
   "metadata": {},
   "outputs": [],
   "source": [
    "plt.figure(figsize=(40,25))\n",
    "sns.heatmap(train.corr(),annot=True)"
   ]
  },
  {
   "cell_type": "markdown",
   "id": "ec71f50f",
   "metadata": {},
   "source": [
    "#### Data Visualisation"
   ]
  },
  {
   "cell_type": "markdown",
   "id": "d8f9f883",
   "metadata": {},
   "source": [
    "Finding the realtion between different features"
   ]
  },
  {
   "cell_type": "code",
   "execution_count": null,
   "id": "76e13e4a",
   "metadata": {},
   "outputs": [],
   "source": [
    "sns.histplot(train['SalePrice'])"
   ]
  },
  {
   "cell_type": "code",
   "execution_count": null,
   "id": "838e9064",
   "metadata": {},
   "outputs": [],
   "source": [
    "sns.barplot(train['OverallQual'],train['SalePrice'])"
   ]
  },
  {
   "cell_type": "code",
   "execution_count": null,
   "id": "2c7455d1",
   "metadata": {},
   "outputs": [],
   "source": [
    "sns.scatterplot(train['GrLivArea'],train['SalePrice'])"
   ]
  },
  {
   "cell_type": "code",
   "execution_count": null,
   "id": "50c5878f",
   "metadata": {},
   "outputs": [],
   "source": [
    "sns.scatterplot(train['GarageArea'],train['SalePrice'])"
   ]
  },
  {
   "cell_type": "code",
   "execution_count": null,
   "id": "111fb574",
   "metadata": {},
   "outputs": [],
   "source": [
    "sns.lineplot(train['OverallQual'],train['SalePrice'])"
   ]
  },
  {
   "cell_type": "code",
   "execution_count": null,
   "id": "5a5d8b1f",
   "metadata": {},
   "outputs": [],
   "source": [
    "sns.pairplot(train.loc[:,['MSSubClass', 'LotArea', 'OverallQual', '1stFlrSF', '2ndFlrSF','YrSold']], hue = 'YrSold')"
   ]
  },
  {
   "cell_type": "code",
   "execution_count": null,
   "id": "766716be",
   "metadata": {},
   "outputs": [],
   "source": [
    "plt.figure(figsize=(15,10))\n",
    "sns.scatterplot('YearBuilt','SalePrice',hue='YrSold',data=train)"
   ]
  },
  {
   "cell_type": "code",
   "execution_count": null,
   "id": "9142138d",
   "metadata": {},
   "outputs": [],
   "source": [
    "sns.barplot(train['GarageCars'],train['SalePrice'])"
   ]
  },
  {
   "cell_type": "code",
   "execution_count": null,
   "id": "4204153b",
   "metadata": {},
   "outputs": [],
   "source": [
    "plt.figure(figsize=(25,20))\n",
    "plt.xticks(rotation = 90)\n",
    "sns.barplot(train['YearBuilt'],train['SalePrice'])"
   ]
  },
  {
   "cell_type": "code",
   "execution_count": null,
   "id": "2a7a3b6a",
   "metadata": {},
   "outputs": [],
   "source": [
    "sns.barplot(train['SaleCondition'], train['SalePrice'])"
   ]
  },
  {
   "cell_type": "code",
   "execution_count": null,
   "id": "1373b776",
   "metadata": {},
   "outputs": [],
   "source": [
    "plt.figure(figsize=(20,15))\n",
    "plt.xticks(rotation = 90)\n",
    "sns.lineplot(train['Neighborhood'], train['SalePrice'])"
   ]
  },
  {
   "cell_type": "markdown",
   "id": "9c21ea47",
   "metadata": {},
   "source": [
    "#### Missing Values Treatment"
   ]
  },
  {
   "cell_type": "code",
   "execution_count": null,
   "id": "5e7b0c1b",
   "metadata": {},
   "outputs": [],
   "source": [
    "train.isnull().sum().sort_values(ascending=False) # so columns with high null values should be removed"
   ]
  },
  {
   "cell_type": "code",
   "execution_count": null,
   "id": "49a3b12b",
   "metadata": {},
   "outputs": [],
   "source": [
    "for i in [train,test]:\n",
    "    i.drop(['PoolQC','MiscFeature','Alley','Fence','FireplaceQu'],axis=1,inplace=True)"
   ]
  },
  {
   "cell_type": "code",
   "execution_count": null,
   "id": "d2630c05",
   "metadata": {},
   "outputs": [],
   "source": [
    "ls=list(train.loc[:,train.isnull().sum()>0].columns)\n",
    "lsobjs=[i for i in ls if train[i].dtype=='object']\n",
    "lscont=[i for i in ls if i not in lsobjs]"
   ]
  },
  {
   "cell_type": "code",
   "execution_count": null,
   "id": "748c9d83",
   "metadata": {},
   "outputs": [],
   "source": [
    "for i in lsobjs:\n",
    "    train[i].fillna(train[i].dropna().mode()[0],inplace=True)\n",
    "for i in lscont:\n",
    "    train[i].fillna(train[i].dropna().mean(),inplace=True)"
   ]
  },
  {
   "cell_type": "code",
   "execution_count": null,
   "id": "07813ae6",
   "metadata": {},
   "outputs": [],
   "source": [
    "ls2=list(test.loc[:,test.isnull().sum()>0])\n",
    "lsobjs2=[i for i in ls2 if test[i].dtype=='object']\n",
    "lscont2=[i for i in ls2 if i not in lsobjs2]"
   ]
  },
  {
   "cell_type": "code",
   "execution_count": null,
   "id": "9694d523",
   "metadata": {},
   "outputs": [],
   "source": [
    "for i in lsobjs2:\n",
    "    test[i].fillna(test[i].dropna().mode()[0],inplace=True)\n",
    "for i in lscont2:\n",
    "    test[i].fillna(test[i].dropna().mean(),inplace=True)"
   ]
  },
  {
   "cell_type": "markdown",
   "id": "7a0265e6",
   "metadata": {},
   "source": [
    "### Creating Model"
   ]
  },
  {
   "cell_type": "markdown",
   "id": "c980dd3b",
   "metadata": {},
   "source": [
    "#### Data Preprocessing"
   ]
  },
  {
   "cell_type": "code",
   "execution_count": null,
   "id": "619515d4",
   "metadata": {},
   "outputs": [],
   "source": [
    "y_train=train.loc[:,'SalePrice'].values\n",
    "train.drop(['SalePrice'],inplace=True,axis=1)\n",
    "test_id=test.loc[:,'Id']"
   ]
  },
  {
   "cell_type": "code",
   "execution_count": null,
   "id": "17e722af",
   "metadata": {},
   "outputs": [],
   "source": [
    "train_test=pd.concat([train,test],axis=0)"
   ]
  },
  {
   "cell_type": "code",
   "execution_count": null,
   "id": "1ce3092f",
   "metadata": {},
   "outputs": [],
   "source": [
    "cols=[i for i in list(train_test.columns)]\n",
    "objs=[i for i in cols if train_test[i].dtype=='object']\n",
    "cont=[i for i in cols if i not in objs]"
   ]
  },
  {
   "cell_type": "code",
   "execution_count": null,
   "id": "546e184d",
   "metadata": {},
   "outputs": [],
   "source": [
    "from sklearn.preprocessing import StandardScaler\n",
    "scalar = StandardScaler()\n",
    "train_test[cont] = scalar.fit_transform(train_test[cont])"
   ]
  },
  {
   "cell_type": "code",
   "execution_count": null,
   "id": "67ecb21f",
   "metadata": {},
   "outputs": [],
   "source": [
    "from sklearn.preprocessing import OrdinalEncoder\n",
    "oc = OrdinalEncoder()\n",
    "train_test[objs]= oc.fit_transform(train_test[objs])"
   ]
  },
  {
   "cell_type": "code",
   "execution_count": null,
   "id": "e6ba78be",
   "metadata": {},
   "outputs": [],
   "source": [
    "x_train=train_test.iloc[:1460,:].values\n",
    "x_test=train_test.iloc[1460:,:].values"
   ]
  },
  {
   "cell_type": "markdown",
   "id": "fc62772f",
   "metadata": {},
   "source": [
    "#### Creating model and training"
   ]
  },
  {
   "cell_type": "code",
   "execution_count": null,
   "id": "37ad8675",
   "metadata": {},
   "outputs": [],
   "source": [
    "from sklearn.linear_model import LinearRegression\n",
    "model=LinearRegression()\n",
    "model.fit(x_train,y_train)"
   ]
  },
  {
   "cell_type": "markdown",
   "id": "6e38a2e8",
   "metadata": {},
   "source": [
    "### Model predictions and Accuracy"
   ]
  },
  {
   "cell_type": "code",
   "execution_count": null,
   "id": "31615033",
   "metadata": {},
   "outputs": [],
   "source": [
    "y_pred=model.predict(x_train)\n",
    "y_pred"
   ]
  },
  {
   "cell_type": "code",
   "execution_count": null,
   "id": "e8570b14",
   "metadata": {},
   "outputs": [],
   "source": [
    "y_train"
   ]
  },
  {
   "cell_type": "code",
   "execution_count": null,
   "id": "22c61dd6",
   "metadata": {},
   "outputs": [],
   "source": [
    "from sklearn.metrics import r2_score\n",
    "r2_score(y_train,y_pred)"
   ]
  },
  {
   "cell_type": "code",
   "execution_count": null,
   "id": "8ce19a30",
   "metadata": {},
   "outputs": [],
   "source": [
    "plt.figure(figsize=(15,15))\n",
    "sns.scatterplot(train['Id'],y_train,label='Actual Values')\n",
    "sns.scatterplot(train['Id'],y_pred,label='Predicted Values')"
   ]
  },
  {
   "cell_type": "code",
   "execution_count": null,
   "id": "45755560",
   "metadata": {},
   "outputs": [],
   "source": [
    "test_pred=model.predict(x_test)"
   ]
  },
  {
   "cell_type": "code",
   "execution_count": null,
   "id": "d1234da8",
   "metadata": {},
   "outputs": [],
   "source": [
    "result=pd.DataFrame()\n",
    "result['Id']=test_id\n",
    "result['SalePrice']=test_pred"
   ]
  },
  {
   "cell_type": "code",
   "execution_count": null,
   "id": "7a2ec9ce",
   "metadata": {},
   "outputs": [],
   "source": [
    "result.to_csv('mySubmission.csv',index=False)"
   ]
  }
 ],
 "metadata": {
  "kernelspec": {
   "display_name": "Python 3 (ipykernel)",
   "language": "python",
   "name": "python3"
  },
  "language_info": {
   "codemirror_mode": {
    "name": "ipython",
    "version": 3
   },
   "file_extension": ".py",
   "mimetype": "text/x-python",
   "name": "python",
   "nbconvert_exporter": "python",
   "pygments_lexer": "ipython3",
   "version": "3.8.8"
  }
 },
 "nbformat": 4,
 "nbformat_minor": 5
}
