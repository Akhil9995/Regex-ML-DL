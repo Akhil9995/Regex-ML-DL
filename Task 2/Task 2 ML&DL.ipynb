{
 "cells": [
  {
   "cell_type": "markdown",
   "id": "c070e06b",
   "metadata": {},
   "source": [
    "# Task 2\n",
    "# Akhilkumar K S\n",
    "# ID: SIRSS2138"
   ]
  },
  {
   "cell_type": "markdown",
   "id": "ea1c1762",
   "metadata": {},
   "source": [
    "### Q1. Write a lambda expression to extract first word of a string."
   ]
  },
  {
   "cell_type": "code",
   "execution_count": 1,
   "id": "a13f9a36",
   "metadata": {},
   "outputs": [
    {
     "name": "stdout",
     "output_type": "stream",
     "text": [
      "Enter a string: Hello hey there I am Akhil\n"
     ]
    },
    {
     "data": {
      "text/plain": [
       "'Hello'"
      ]
     },
     "execution_count": 1,
     "metadata": {},
     "output_type": "execute_result"
    }
   ],
   "source": [
    "func1=lambda x:x.strip().split()[0]\n",
    "func1(input('Enter a string: '))"
   ]
  },
  {
   "cell_type": "markdown",
   "id": "f2b3f20f",
   "metadata": {},
   "source": [
    "### Q2. Write a function to extract first word of a string (with many words separated by space)."
   ]
  },
  {
   "cell_type": "code",
   "execution_count": 2,
   "id": "cec90700",
   "metadata": {},
   "outputs": [
    {
     "name": "stdout",
     "output_type": "stream",
     "text": [
      "Enter a string : Lorem Ipsum is simply dummy text of the printing and typesetting industry\n"
     ]
    },
    {
     "data": {
      "text/plain": [
       "'Lorem'"
      ]
     },
     "execution_count": 2,
     "metadata": {},
     "output_type": "execute_result"
    }
   ],
   "source": [
    "string=input('Enter a string : ')#eg Lorem Ipsum is simply dummy text of the printing and typesetting industry\n",
    "\n",
    "\n",
    "def extract_1st(s):\n",
    "    return s.strip().split()[0]\n",
    "\n",
    "\n",
    "extract_1st(string)"
   ]
  },
  {
   "cell_type": "markdown",
   "id": "753e8e77",
   "metadata": {},
   "source": [
    "### Q3. Extract the first word from every string from a list of strings by using map function."
   ]
  },
  {
   "cell_type": "code",
   "execution_count": 3,
   "id": "306d6a0a",
   "metadata": {},
   "outputs": [
    {
     "data": {
      "text/plain": [
       "['Lorem', 'typesetting', 'standard', 'when', 'scrambled', 'It', 'leap']"
      ]
     },
     "execution_count": 3,
     "metadata": {},
     "output_type": "execute_result"
    }
   ],
   "source": [
    "#for user inputs\n",
    "\n",
    "#s=[]\n",
    "#for i in range(int(input('Enter number of texts'))):\n",
    "#    s.append(input())\n",
    "\n",
    "    \n",
    "#given data\n",
    "s=['Lorem Ipsum is simply dummy text of the printing',\n",
    "   'typesetting industry. Lorem Ipsum has been the industry',\n",
    "   'standard dummy text ever since the 1500s',\n",
    "   'when an unknown printer took a galley of type ',\n",
    "   'scrambled it to make a type specimen book.',\n",
    "   'It has survived not only five centuries',\n",
    "   'leap into electronic typesetting, essentially unchanged.']\n",
    "\n",
    "out_list=list(map(lambda x:x.strip().split()[0],s))\n",
    "out_list"
   ]
  },
  {
   "cell_type": "markdown",
   "id": "73196b9f",
   "metadata": {},
   "source": [
    "### Q4. Write a function to return a list of prime factors of a given number."
   ]
  },
  {
   "cell_type": "code",
   "execution_count": 4,
   "id": "0b562e3a",
   "metadata": {},
   "outputs": [
    {
     "name": "stdout",
     "output_type": "stream",
     "text": [
      "Enter a number: 15\n",
      "list of prime factors:  [3, 5]\n"
     ]
    }
   ],
   "source": [
    "import math\n",
    "\n",
    "num=int(input('Enter a number: '))\n",
    "\n",
    "def prime_factors(n):\n",
    "    ls=[k for k in range(2,n+1) if n%k==0]\n",
    "    def prime(x):\n",
    "        for i in range(2,int(math.sqrt(x))+1):\n",
    "            if x%i==0:\n",
    "                return False\n",
    "        else:\n",
    "            return True\n",
    "    \n",
    "    print('list of prime factors: ',list(filter(prime,ls)))\n",
    "prime_factors(num)"
   ]
  },
  {
   "cell_type": "markdown",
   "id": "ad5b7819",
   "metadata": {},
   "source": [
    "### Q5. Write a function that finds 2nd largest among 4 numbers (Repetitions are allowed,without sorting)."
   ]
  },
  {
   "cell_type": "code",
   "execution_count": 5,
   "id": "1e790548",
   "metadata": {},
   "outputs": [
    {
     "name": "stdout",
     "output_type": "stream",
     "text": [
      "Enter 4 numbers (space seperated ):1 5 2 4\n",
      "Second largest number:  4\n"
     ]
    }
   ],
   "source": [
    "def sec_largest(ls):\n",
    "    ls=set(ls)\n",
    "    if len(ls)>1:\n",
    "        ls.remove(max(ls))\n",
    "    print('Second largest number: ',max(ls))\n",
    "    \n",
    "nums=list(map(int,input('Enter 4 numbers (space seperated ):').strip().split()))\n",
    "sec_largest(nums)"
   ]
  }
 ],
 "metadata": {
  "kernelspec": {
   "display_name": "Python 3",
   "language": "python",
   "name": "python3"
  },
  "language_info": {
   "codemirror_mode": {
    "name": "ipython",
    "version": 3
   },
   "file_extension": ".py",
   "mimetype": "text/x-python",
   "name": "python",
   "nbconvert_exporter": "python",
   "pygments_lexer": "ipython3",
   "version": "3.8.8"
  }
 },
 "nbformat": 4,
 "nbformat_minor": 5
}
