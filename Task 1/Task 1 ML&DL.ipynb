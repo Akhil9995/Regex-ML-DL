{
 "cells": [
  {
   "cell_type": "markdown",
   "id": "7086a01e",
   "metadata": {},
   "source": [
    "# Task1\n",
    "# Akhilkumar K S\n",
    "# ID: SIRSS2138"
   ]
  },
  {
   "cell_type": "markdown",
   "id": "cf034646",
   "metadata": {},
   "source": [
    "## Pattern 1"
   ]
  },
  {
   "cell_type": "code",
   "execution_count": 1,
   "id": "6d86d70d",
   "metadata": {},
   "outputs": [
    {
     "name": "stdout",
     "output_type": "stream",
     "text": [
      "5 5 5 5 5 \n",
      "5 5 5 5 \n",
      "5 5 5 \n",
      "5 5 \n",
      "5 \n"
     ]
    }
   ],
   "source": [
    "for i in range(5):\n",
    "    print('5 '*(5-i))"
   ]
  },
  {
   "cell_type": "markdown",
   "id": "e9a50009",
   "metadata": {},
   "source": [
    "## Pattern 2"
   ]
  },
  {
   "cell_type": "code",
   "execution_count": 2,
   "id": "2c666f04",
   "metadata": {},
   "outputs": [
    {
     "name": "stdout",
     "output_type": "stream",
     "text": [
      "0 1 2 3 4 5 \n",
      "0 1 2 3 4 \n",
      "0 1 2 3 \n",
      "0 1 2 \n",
      "0 1 \n"
     ]
    }
   ],
   "source": [
    "for i in range(5,0,-1):\n",
    "    for j in range(0,i+1):\n",
    "        print(j,end=' ')\n",
    "    print()"
   ]
  },
  {
   "cell_type": "markdown",
   "id": "b2c801c5",
   "metadata": {},
   "source": [
    "## Pattern 3"
   ]
  },
  {
   "cell_type": "code",
   "execution_count": 3,
   "id": "f9eaa7d1",
   "metadata": {},
   "outputs": [
    {
     "name": "stdout",
     "output_type": "stream",
     "text": [
      "1 \n",
      "3 3 \n",
      "5 5 5 \n",
      "7 7 7 7 \n",
      "9 9 9 9 9 \n"
     ]
    }
   ],
   "source": [
    "for i in range (1,6):\n",
    "    for j in range (0,i):\n",
    "        print(2*i-1, end =\" \")\n",
    "    print()"
   ]
  },
  {
   "cell_type": "markdown",
   "id": "eba500fe",
   "metadata": {},
   "source": [
    "## Pattern 4"
   ]
  },
  {
   "cell_type": "code",
   "execution_count": 4,
   "id": "dcb3dd24",
   "metadata": {},
   "outputs": [
    {
     "name": "stdout",
     "output_type": "stream",
     "text": [
      "\n",
      "1 \n",
      "2 1 \n",
      "3 2 1 \n",
      "4 3 2 1 \n",
      "5 4 3 2 1 \n"
     ]
    }
   ],
   "source": [
    "for i in range(6):\n",
    "    for j in range(i,0,-1):\n",
    "        print(j,end=' ')\n",
    "    print('')"
   ]
  },
  {
   "cell_type": "markdown",
   "id": "b338432a",
   "metadata": {},
   "source": [
    "## Pattern 5"
   ]
  },
  {
   "cell_type": "code",
   "execution_count": 5,
   "id": "3cd2b6d2",
   "metadata": {},
   "outputs": [
    {
     "name": "stdout",
     "output_type": "stream",
     "text": [
      "1 \n",
      "3 2 \n",
      "6 5 4 \n",
      "10 9 8 7 \n"
     ]
    }
   ],
   "source": [
    "ls=list(range(1,11))\n",
    "for i in range(1,5):\n",
    "    for j in ls[:i][::-1]:\n",
    "        print(j,end=' ')\n",
    "    print()\n",
    "    ls=ls[i:]\n"
   ]
  },
  {
   "cell_type": "markdown",
   "id": "40b34d6f",
   "metadata": {},
   "source": [
    "## Pattern 6"
   ]
  },
  {
   "cell_type": "code",
   "execution_count": 6,
   "id": "88ea37ba",
   "metadata": {},
   "outputs": [
    {
     "name": "stdout",
     "output_type": "stream",
     "text": [
      "1 \n",
      "1 1 \n",
      "1 2 1 \n",
      "1 3 3 1 \n",
      "1 4 6 4 1 \n",
      "1 5 10 10 5 1 \n",
      "1 6 15 20 15 6 1 \n"
     ]
    }
   ],
   "source": [
    "for i in range(7):\n",
    "    for j in range(0, i + 1):\n",
    "        n = 1\n",
    "        if j>i-j:\n",
    "            j=i-j\n",
    "        for k in range(j):\n",
    "            n *= (i - k)\n",
    "            n //=(k + 1)\n",
    "        print(n, end=\" \")\n",
    "    print()"
   ]
  },
  {
   "cell_type": "markdown",
   "id": "2cdc592e",
   "metadata": {},
   "source": [
    "## Pattern 7"
   ]
  },
  {
   "cell_type": "code",
   "execution_count": 7,
   "id": "46b844e5",
   "metadata": {},
   "outputs": [
    {
     "name": "stdout",
     "output_type": "stream",
     "text": [
      "1 2 3 4 5 \n",
      "2 2 3 4 5 \n",
      "3 3 3 4 5 \n",
      "4 4 4 4 5 \n",
      "5 5 5 5 5 \n"
     ]
    }
   ],
   "source": [
    "for i in range(1,6):\n",
    "    for j in range(1,6):\n",
    "        if j<i:\n",
    "            print(i,end=' ')\n",
    "        else:\n",
    "            print(j,end=' ')\n",
    "    print()"
   ]
  },
  {
   "cell_type": "markdown",
   "id": "503a16d8",
   "metadata": {},
   "source": [
    "## Pattern 8"
   ]
  },
  {
   "cell_type": "code",
   "execution_count": 8,
   "id": "cd070c23",
   "metadata": {},
   "outputs": [
    {
     "name": "stdout",
     "output_type": "stream",
     "text": [
      "1 \n",
      "2 4 \n",
      "3 6 9 \n",
      "4 8 12 16 \n",
      "5 10 15 20 25 \n",
      "6 12 18 24 30 36 \n",
      "7 14 21 28 35 42 49 \n",
      "8 16 24 32 40 48 56 64 \n"
     ]
    }
   ],
   "source": [
    "for i in range(1,9):\n",
    "    for j in range(1,i+1):\n",
    "        print(i*j,end=' ')\n",
    "    print()\n",
    "        "
   ]
  },
  {
   "cell_type": "markdown",
   "id": "777725d6",
   "metadata": {},
   "source": [
    "## pattern 9"
   ]
  },
  {
   "cell_type": "code",
   "execution_count": 9,
   "id": "560907e6",
   "metadata": {},
   "outputs": [
    {
     "name": "stdout",
     "output_type": "stream",
     "text": [
      "       * * * * * * \n",
      "        * * * * * \n",
      "         * * * * \n",
      "          * * * \n",
      "           * * \n",
      "            * \n"
     ]
    }
   ],
   "source": [
    "for j in range(6):\n",
    "    print(' '*(6+j),'* '*(6-j))"
   ]
  },
  {
   "cell_type": "markdown",
   "id": "af88297c",
   "metadata": {},
   "source": [
    "## Pattern 10"
   ]
  },
  {
   "cell_type": "code",
   "execution_count": 10,
   "id": "a1bb0e37",
   "metadata": {},
   "outputs": [
    {
     "name": "stdout",
     "output_type": "stream",
     "text": [
      "         * \n",
      "        *  * \n",
      "       *  *  * \n",
      "      *  *  *  * \n",
      "     *  *  *  *  * \n",
      "    *  *  *  *  *  * \n",
      "   *  *  *  *  *  *  * \n"
     ]
    }
   ],
   "source": [
    "for j in range(1,8):\n",
    "    print(' '*(8-j),' * '*(j))"
   ]
  },
  {
   "cell_type": "markdown",
   "id": "7cfdc39e",
   "metadata": {},
   "source": [
    "## Pattern 11"
   ]
  },
  {
   "cell_type": "code",
   "execution_count": 11,
   "id": "9b595dd6",
   "metadata": {},
   "outputs": [
    {
     "name": "stdout",
     "output_type": "stream",
     "text": [
      "* \n",
      "* * \n",
      "* * * \n",
      "* * * * \n",
      "* * * * * \n",
      "* * * * * * \n",
      "\n",
      "* * * * * * \n",
      "* * * * * \n",
      "* * * * \n",
      "* * * \n",
      "* * \n",
      "* \n"
     ]
    }
   ],
   "source": [
    "for i in range(1,7):\n",
    "    print('* '*i)\n",
    "print()\n",
    "for i in range(1,7):\n",
    "    print('* '*(7-i))"
   ]
  },
  {
   "cell_type": "markdown",
   "id": "5dedeb8b",
   "metadata": {},
   "source": [
    "##  Pattern 12"
   ]
  },
  {
   "cell_type": "code",
   "execution_count": 12,
   "id": "067c90f6",
   "metadata": {
    "scrolled": true
   },
   "outputs": [
    {
     "name": "stdout",
     "output_type": "stream",
     "text": [
      "* \n",
      "* * \n",
      "* * * \n",
      "* * * * \n",
      "* * * * * \n",
      "* * * * \n",
      "* * * \n",
      "* * \n",
      "* \n"
     ]
    }
   ],
   "source": [
    "for i in range(1,6):\n",
    "    print('* '*i)\n",
    "for j in range(4,0,-1):\n",
    "    print('* '*j)"
   ]
  },
  {
   "cell_type": "markdown",
   "id": "b8798ab5",
   "metadata": {},
   "source": [
    "## pattern 13"
   ]
  },
  {
   "cell_type": "code",
   "execution_count": 13,
   "id": "46006efe",
   "metadata": {},
   "outputs": [
    {
     "name": "stdout",
     "output_type": "stream",
     "text": [
      "         * \n",
      "       * * \n",
      "     * * * \n",
      "   * * * * \n",
      " * * * * * \n",
      "   * * * * \n",
      "     * * * \n",
      "       * * \n",
      "         * \n"
     ]
    }
   ],
   "source": [
    "for i in range(1,6):\n",
    "    print('  '*(5-i),'* '*i)\n",
    "for j in range(4,0,-1):\n",
    "    print('  '*(5-j),'* '*j)"
   ]
  },
  {
   "cell_type": "markdown",
   "id": "8f4a6c62",
   "metadata": {},
   "source": [
    "## pattern 14"
   ]
  },
  {
   "cell_type": "code",
   "execution_count": 14,
   "id": "048dbe6f",
   "metadata": {},
   "outputs": [
    {
     "name": "stdout",
     "output_type": "stream",
     "text": [
      " * * * * * \n",
      "  * * * * \n",
      "   * * * \n",
      "    * * \n",
      "     * \n",
      "     * \n",
      "    * * \n",
      "   * * * \n",
      "  * * * * \n",
      " * * * * * \n"
     ]
    }
   ],
   "source": [
    "for j in range(5):\n",
    "    print(' '*(j),'* '*(5-j))\n",
    "for j in range(5):\n",
    "    print(' '*(4-j),'* '*(j+1))"
   ]
  },
  {
   "cell_type": "markdown",
   "id": "2f3cfa7a",
   "metadata": {},
   "source": [
    "## pattern 15"
   ]
  },
  {
   "cell_type": "code",
   "execution_count": 15,
   "id": "211026bb",
   "metadata": {},
   "outputs": [
    {
     "name": "stdout",
     "output_type": "stream",
     "text": [
      "****************\n",
      "*******__*******\n",
      "******____******\n",
      "*****______*****\n",
      "****________****\n",
      "***__________***\n",
      "**____________**\n",
      "*______________*\n"
     ]
    }
   ],
   "source": [
    "for i in range(8):\n",
    "    print(('__'*i).center(16,'*'))"
   ]
  }
 ],
 "metadata": {
  "kernelspec": {
   "display_name": "Python 3",
   "language": "python",
   "name": "python3"
  },
  "language_info": {
   "codemirror_mode": {
    "name": "ipython",
    "version": 3
   },
   "file_extension": ".py",
   "mimetype": "text/x-python",
   "name": "python",
   "nbconvert_exporter": "python",
   "pygments_lexer": "ipython3",
   "version": "3.8.8"
  }
 },
 "nbformat": 4,
 "nbformat_minor": 5
}
