{
 "cells": [
  {
   "cell_type": "markdown",
   "id": "d7782055",
   "metadata": {},
   "source": [
    "# Task 5\n",
    "# Akhilkumar K S\n",
    "# ID: SIRSS2138"
   ]
  },
  {
   "cell_type": "markdown",
   "id": "3a79617f",
   "metadata": {},
   "source": [
    "### Q1. Given a list of integers, write a function to return the sum of all prime numbers in that list."
   ]
  },
  {
   "cell_type": "code",
   "execution_count": null,
   "id": "c98ceae0",
   "metadata": {},
   "outputs": [],
   "source": [
    "def prime_sum(ls):\n",
    "    def prime(n):\n",
    "        if n<=1:\n",
    "            return False\n",
    "        for i in range(2,int(n**0.5)+1):\n",
    "            if n%i==0:\n",
    "                return False\n",
    "                break\n",
    "        else:\n",
    "            return True\n",
    "    return 'Sum of prime numbers in list : {}'.format(sum(filter(prime,ls)))\n",
    "\n",
    "Ls=list(map(int,input('Enter elements of list seperated by space : ').strip().split()))\n",
    "\n",
    "prime_sum(Ls)"
   ]
  },
  {
   "cell_type": "markdown",
   "id": "0f5f342a",
   "metadata": {},
   "source": [
    "### Q2. Given a list of integers, write a function to check whether the list is strictly increasing or not."
   ]
  },
  {
   "cell_type": "code",
   "execution_count": null,
   "id": "76d041a7",
   "metadata": {},
   "outputs": [],
   "source": [
    "def strict_increasing(ls):\n",
    "    if len(ls)<2:\n",
    "        return True\n",
    "    for i,j in zip(ls,ls[1:]):\n",
    "        if i>=j:\n",
    "            return False\n",
    "            break\n",
    "    else:\n",
    "        return True\n",
    "\n",
    "Ls=list(map(int,input('Enter elements of list seperated by space : ').strip().split()))\n",
    "\n",
    "strict_increasing(Ls)"
   ]
  },
  {
   "cell_type": "markdown",
   "id": "3d37112d",
   "metadata": {},
   "source": [
    "### Q3. Write a function to check whether a given list is expanding or not (the difference between adjacent elements should keep on increasing)."
   ]
  },
  {
   "cell_type": "code",
   "execution_count": null,
   "id": "c15d0d61",
   "metadata": {},
   "outputs": [],
   "source": [
    "def expanding(ls):\n",
    "    dif=0\n",
    "    if len(ls)<2:\n",
    "        return True\n",
    "    for i,j in zip(ls,ls[1:]):\n",
    "        if j-i<=dif:\n",
    "            return False\n",
    "            break\n",
    "        dif=j-i\n",
    "    else:\n",
    "        return True\n",
    "\n",
    "Ls=list(map(int,input('Enter elements of list seperated by space : ').strip().split()))\n",
    "\n",
    "expanding(Ls)"
   ]
  },
  {
   "cell_type": "markdown",
   "id": "7bab040a",
   "metadata": {},
   "source": [
    "### Q4. Write a function to calculate all permutations of a given string. (Without using itertools)"
   ]
  },
  {
   "cell_type": "code",
   "execution_count": null,
   "id": "9a06acfa",
   "metadata": {},
   "outputs": [],
   "source": [
    "def permutation(string,per):\n",
    "    if (len(string) == 0):\n",
    "        print(per)\n",
    "        return \n",
    "     \n",
    "    for i in range(len(string)):\n",
    "        cu = string[i]\n",
    "        left_part = string[0:i]\n",
    "        right_part = string[i + 1:]\n",
    "        rest = left_part + right_part\n",
    "        permutation(rest, per + cu)\n",
    " \n",
    " \n",
    "string = input(\"Enter the string : \")\n",
    " \n",
    "print(\"All permutations of a given string : \")\n",
    "permutation(string, \"\")\n",
    " "
   ]
  }
 ],
 "metadata": {
  "kernelspec": {
   "display_name": "Python 3",
   "language": "python",
   "name": "python3"
  },
  "language_info": {
   "codemirror_mode": {
    "name": "ipython",
    "version": 3
   },
   "file_extension": ".py",
   "mimetype": "text/x-python",
   "name": "python",
   "nbconvert_exporter": "python",
   "pygments_lexer": "ipython3",
   "version": "3.8.8"
  }
 },
 "nbformat": 4,
 "nbformat_minor": 5
}
