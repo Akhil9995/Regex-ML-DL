{
 "cells": [
  {
   "cell_type": "markdown",
   "id": "ed3f4288",
   "metadata": {},
   "source": [
    "# Task 3\n",
    "# Akhilkumar K S\n",
    "# ID: SIRSS2138"
   ]
  },
  {
   "cell_type": "markdown",
   "id": "5c581dea",
   "metadata": {},
   "source": [
    "### Write a function to return nth term of Fibonacci sequence."
   ]
  },
  {
   "cell_type": "code",
   "execution_count": 1,
   "id": "c35bf414",
   "metadata": {},
   "outputs": [
    {
     "name": "stdout",
     "output_type": "stream",
     "text": [
      "Enter the position :7\n"
     ]
    },
    {
     "data": {
      "text/plain": [
       "'7th term of fibonacci series is 8'"
      ]
     },
     "execution_count": 1,
     "metadata": {},
     "output_type": "execute_result"
    }
   ],
   "source": [
    "def fibonacci(x):\n",
    "    ls=[0,1]\n",
    "    if x<=0:\n",
    "        return \"Enter a positive integer!\"\n",
    "    else:\n",
    "        for i in range(x):\n",
    "            ls.append(ls[-1]+ls[-2])\n",
    "        return '{}th term of fibonacci series is {}'.format(n,ls[n-1])\n",
    "    \n",
    "n=int(input(\"Enter the position :\"))\n",
    "fibonacci(n)"
   ]
  },
  {
   "cell_type": "markdown",
   "id": "42a06932",
   "metadata": {},
   "source": [
    "### Write a function to find out GCD of two numbers using EUCLID'S algorithm."
   ]
  },
  {
   "cell_type": "code",
   "execution_count": 2,
   "id": "c26d8f6e",
   "metadata": {},
   "outputs": [
    {
     "name": "stdout",
     "output_type": "stream",
     "text": [
      "Enter 2 space seperated integers : 10 5\n"
     ]
    },
    {
     "data": {
      "text/plain": [
       "5"
      ]
     },
     "execution_count": 2,
     "metadata": {},
     "output_type": "execute_result"
    }
   ],
   "source": [
    "def GCD(ls):\n",
    "    x,y=ls\n",
    "    while(y):\n",
    "        x,y=y,x%y\n",
    "    return x\n",
    "\n",
    "N=list(map(int,input(\"Enter 2 space seperated integers : \").strip().split()))\n",
    "GCD(N)"
   ]
  },
  {
   "cell_type": "markdown",
   "id": "ff2f79ce",
   "metadata": {},
   "source": [
    "### Write a function to find LCM of two number in most optimizers way."
   ]
  },
  {
   "cell_type": "code",
   "execution_count": 3,
   "id": "1532ccc5",
   "metadata": {},
   "outputs": [
    {
     "name": "stdout",
     "output_type": "stream",
     "text": [
      "Enter 2 space seperated integers : 10 5\n"
     ]
    },
    {
     "data": {
      "text/plain": [
       "10.0"
      ]
     },
     "execution_count": 3,
     "metadata": {},
     "output_type": "execute_result"
    }
   ],
   "source": [
    "def LCM(ls):\n",
    "    x,y=ls\n",
    "    def gcd(a,b):\n",
    "        while(b):\n",
    "            a,b=b,a%b\n",
    "            return a\n",
    "    \n",
    "    return (x*y)/gcd(x,y)\n",
    "\n",
    "N=list(map(int,input(\"Enter 2 space seperated integers : \").strip().split()))\n",
    "LCM(N)"
   ]
  }
 ],
 "metadata": {
  "kernelspec": {
   "display_name": "Python 3",
   "language": "python",
   "name": "python3"
  },
  "language_info": {
   "codemirror_mode": {
    "name": "ipython",
    "version": 3
   },
   "file_extension": ".py",
   "mimetype": "text/x-python",
   "name": "python",
   "nbconvert_exporter": "python",
   "pygments_lexer": "ipython3",
   "version": "3.8.8"
  }
 },
 "nbformat": 4,
 "nbformat_minor": 5
}
